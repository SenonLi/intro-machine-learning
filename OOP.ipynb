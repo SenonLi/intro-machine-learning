{
 "cells": [
  {
   "cell_type": "markdown",
   "metadata": {},
   "source": [
    "## Quick Introuction to Object Oriented Programming in Python\n",
    "\n",
    "Before we move to talking about **PyTorch** in the next notebook, we need to introduce the concept of Object Oriented Programming. This way of writing code is key in using **PyTorch** effectively to solve hard Machine Learning problems. \n",
    "\n",
    "### What is Object Oriented Programming?\n",
    "\n",
    "Commonly referred to as \"OOP\", it is really just a way of writing code that is different from what we've been doing so far. In the previous notebook, whenever we wanted to perform a computation, like loading data or training a model for example, we simply wrote what we wanted calling functions and assigning results to variables.\n",
    "\n",
    "In OOP, however, functions and variables take the backseat and play second fiddle to another type of entity called **Objects**.\n",
    "\n",
    "To keep things simple, **Objects** are pieces of code that *encapsulate* sets of variables and functions that operate on these variables inside a single entity. In OOP jargon, these variables that live inside of an Object are called *attributes* or *fields*. The functions that operate on these *attributes* are called *methods*. Generally, an OOP program will feature multiple Objects that use methods to interact with one another and make things happen. Objects that have the same attributes and methods are said to be in the same **Class**, and generally in a program you will use objects of many different classes to get things done.\n",
    "\n",
    "We have seen examples of **Objects** of different **Classes** in action in the previous notebook. For example, when we fit models to the iris dataset:\n",
    "\n",
    "```python\n",
    "lr_model = LogisticRegression(solver='liblinear', multi_class='ovr')\n",
    "\n",
    "lr_model.fit(X_train, Y_train)\n",
    "```\n",
    "\n",
    "On the first line, we *spawned* or *created an instance of* an Object of the **Class** `LogisticRegression`. We didn't need to ask ourselves what exactly is inside this object, we just know that it contains all the code necessary to train a Logistic Regression model given some input data. As it were, on the second line we use the **Method** `fit` from this object to load our training data inside it and train the model. Later, we use the following lines of code to get information out of the Object:\n",
    "\n",
    "```python\n",
    "Y_hat = lr_model.predict(X_test)\n",
    "\n",
    "plot_confusion_matrix(lr_model,X_test, Y_test)\n",
    "```\n",
    "\n",
    "On the first line we used the **Method** `predict` to load our Test examples into the Object, then have it compute and output predictions, that we then store inside a variable called `Y_hat`.\n",
    "\n",
    "Then on the second line we pass the **Object itself** to the function `plot_confusion_matrix` along with our Test Set to see how our model did on the test data. We don't have to know how exactly that function did it, but it had some code in it that allows it to interact with objects of the class LogisticRegression.\n",
    "\n",
    "### How do I Define My Own Objects?\n",
    "\n",
    "There are two main ways to define your own Objects:\n",
    "\n",
    "1. Write your own Class from scratch.\n",
    "\n",
    "2. Take advantage of existing Classes and use them as a template to create your new Class of Objects.\n",
    "\n",
    "In option 1, you need to think long and hard about what attributes and methods Objects of your new Class needs to have. With option 2, life is easier - templates already provide attributes and methods you can use as is or modify, and you are free to add new ones only if need be. In OOP jargon, this concept of using Class templates is called **inheritance**. Very literally, your new Class will *inherit* attributes and methods from its **parent class**.\n",
    "\n",
    "As we will see on the next notebook, being able to define your own objects plays a big part in using **PyTorch** effectively. Luckily, all the Class writing you will need to do is of the *inheritance* type. Let's see what that looks like in practice in Python:\n",
    "\n",
    "Syntax:\n",
    "\n",
    "```python\n",
    "class *Your Class Name*(*Parent Class Name*):\n",
    "  def __init__(self, *input attributes*):\n",
    "    super().__init__(self, *parent Class attributes*) # Load attributes and methods from the parent Class\n",
    "    self.*attribute name* = *value*\n",
    "    self.*attribute name* = *value*\n",
    "\n",
    "  def *method name*(self, *arguments*):\n",
    "    *work happens here*\n",
    "    *use self. to access attributes defined above*\n",
    "```\n",
    "\n",
    "Example:"
   ]
  },
  {
   "cell_type": "code",
   "execution_count": 6,
   "metadata": {},
   "outputs": [
    {
     "name": "stdout",
     "output_type": "stream",
     "text": [
      "Homer Simpson\n"
     ]
    }
   ],
   "source": [
    "# FIRST WE DEFINE A CLASS\n",
    "class Person:\n",
    "  def __init__(self, fname, lname):\n",
    "    self.firstname = fname\n",
    "    self.lastname = lname\n",
    "\n",
    "  def print_full_name(self):\n",
    "    print(self.firstname, self.lastname)\n",
    "    \n",
    "# CREATE AN OBJECT OF CLASS PERSON    \n",
    "someone = Person(\"Homer\",\"Simpson\")\n",
    "\n",
    "# CALL A METHOD\n",
    "someone.print_full_name()"
   ]
  },
  {
   "cell_type": "code",
   "execution_count": 13,
   "metadata": {},
   "outputs": [
    {
     "name": "stdout",
     "output_type": "stream",
     "text": [
      "Peter Griffin\n",
      "42\n"
     ]
    }
   ],
   "source": [
    "# NOW THE NEXT CLASS WILL INHERIT FROM \"Person\"\n",
    "\n",
    "class Employee(Person):\n",
    "  def __init__(self, fname, lname,employeeid):\n",
    "    super().__init__(fname, lname) # LOAD ATTRIBUTES AND METHODS FROM PARENT CLASS\n",
    "    self.employeeid = employeeid\n",
    "\n",
    "  def print_employee_id(self):\n",
    "    print(self.employeeid)\n",
    "    \n",
    "an_employee = Employee(\"Peter\",\"Griffin\",42)\n",
    "\n",
    "an_employee.print_full_name() # YOU CAN CALL THIS METHOD EVEN THOUGH YOU DIDN'T DEFINE IT. IT WAS INHERITED FROM THE PARENT CLASS.\n",
    "an_employee.print_employee_id()\n",
    "\n",
    "\n",
    "    "
   ]
  },
  {
   "cell_type": "markdown",
   "metadata": {},
   "source": [
    "**Exercise:** Create a class called `Student` that inherits from `Person`. Add an attriubute called GPA and define a method to print the GPA. Then create an object of this class with your name and your undergrad GPA and print these attributes.,"
   ]
  }
 ],
 "metadata": {
  "kernelspec": {
   "display_name": "Python 3",
   "language": "python",
   "name": "python3"
  },
  "language_info": {
   "codemirror_mode": {
    "name": "ipython",
    "version": 3
   },
   "file_extension": ".py",
   "mimetype": "text/x-python",
   "name": "python",
   "nbconvert_exporter": "python",
   "pygments_lexer": "ipython3",
   "version": "3.7.5"
  }
 },
 "nbformat": 4,
 "nbformat_minor": 4
}
