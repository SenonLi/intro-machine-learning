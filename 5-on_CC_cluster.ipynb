{
 "cells": [
  {
   "cell_type": "markdown",
   "metadata": {},
   "source": [
    "# Machine Learning on Compute Canada Systems\n",
    "\n",
    "Now that we've seem how to do Machine Learning with scikit-learn and PyTorch, next we'll look at the best practices for running ML code on Compute Canada Systems. This tutorial will be divided in parts, namely:\n",
    "\n",
    "* Developing/testing/debugging your code\n",
    "\n",
    "* Resources: Do you need a GPU? Do you need more than one CPU?\n",
    "\n",
    "* Making sure your code is actually using a GPU\n",
    "\n",
    "* Show Time: submit a job and handling big datasets\n",
    "\n",
    "## Developing/testing/debugging your code\n",
    "\n",
    "So you are just getting started exploring a new dataset, testing out different algorithms/model architectures and trying to figure out how you will predict some variable Y from a set of variables X. "
   ]
  },
  {
   "cell_type": "code",
   "execution_count": null,
   "metadata": {},
   "outputs": [],
   "source": []
  }
 ],
 "metadata": {
  "kernelspec": {
   "display_name": "",
   "name": ""
  },
  "language_info": {
   "name": ""
  }
 },
 "nbformat": 4,
 "nbformat_minor": 4
}
