{
 "cells": [
  {
   "cell_type": "markdown",
   "metadata": {},
   "source": [
    "# High Performance Machine Learning\n",
    "\n",
    "So far we have trained models using **scikit-learn** and **PyTorch** on small datasets, where any modern Laptop can carry out the work in a matter of several seconds. But what do you do when your problem involves massive amounts of data and training complex models many times over until you get results you are happy with?\n",
    "\n",
    "If you recall when we introduced **PyTorch** on the previous notebook, we listed GPU acceleration, the Datasets class and user-frienly parallel/distributed training as advantages over **scikit-learn**.\n",
    "\n",
    "We will now explore these advantages.\n",
    "\n",
    "## GPU Acceleration\n",
    "\n",
    "When people first learn about how computers work, the CPU is often referred to as the \"brain of the computer\". And in many ways it is. The CPU has to carry out many different types of instructions to enable everything from responding to keyboard/mouse events to playing YouTube videos while you type into a word processor at the same time. In other words, CPUs are built to be good at doing different types of things at the same time.\n",
    "\n",
    "The Graphical Processing Unit (a.k.a the GPU) on the other hand, only has to be good at one thing: rendering graphics. \n",
    "\n",
    "As it turns out, being good at rendering graphics really means being good at performing Vector/Matrix/Tensor operations - the same type of operations that happen under the hood in Neural Networks. It follows that GPUs are better than CPUs at training Neural Networks.\n",
    "\n",
    "Modern Machine Learning libraries, like **PyTorch** allow you to take advantage of this fact and use the GPU to train models faster.\n",
    "\n",
    "Let's see this in action:\n",
    "\n"
   ]
  },
  {
   "cell_type": "code",
   "execution_count": null,
   "metadata": {},
   "outputs": [],
   "source": []
  }
 ],
 "metadata": {
  "kernelspec": {
   "display_name": "Python 3",
   "language": "python",
   "name": "python3"
  },
  "language_info": {
   "codemirror_mode": {
    "name": "ipython",
    "version": 3
   },
   "file_extension": ".py",
   "mimetype": "text/x-python",
   "name": "python",
   "nbconvert_exporter": "python",
   "pygments_lexer": "ipython3",
   "version": "3.7.5"
  }
 },
 "nbformat": 4,
 "nbformat_minor": 4
}
